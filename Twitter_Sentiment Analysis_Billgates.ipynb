{
 "cells": [
  {
   "cell_type": "markdown",
   "metadata": {},
   "source": [
    "# Description: This is sentiment Analysis program that parses the tweets fetched  from  twitter using python"
   ]
  },
  {
   "cell_type": "code",
   "execution_count": 44,
   "metadata": {},
   "outputs": [],
   "source": [
    "import tweepy\n",
    "from textblob import TextBlob\n",
    "from  wordcloud import WordCloud"
   ]
  },
  {
   "cell_type": "code",
   "execution_count": 45,
   "metadata": {},
   "outputs": [],
   "source": [
    "import pandas as pd\n",
    "import numpy as np\n",
    "import re\n",
    "import matplotlib.pyplot as plt\n",
    "plt.style.use('fivethirtyeight')"
   ]
  },
  {
   "cell_type": "code",
   "execution_count": 46,
   "metadata": {},
   "outputs": [],
   "source": [
    "# Twitter API  credentials\n",
    "consumerKey = '*********************************'\n",
    "consumerSecret = '***************************************************'\n",
    "\n",
    "access_token = '********************************************'\n",
    "access_token_secret = '***********************************************'\n",
    "\n",
    "#Please create above access key from https://developer.twitter.com/\n"
   ]
  },
  {
   "cell_type": "code",
   "execution_count": 47,
   "metadata": {},
   "outputs": [],
   "source": [
    "# Create the authentication  object\n",
    "authenticate = tweepy.OAuthHandler(consumerKey,consumerSecret)"
   ]
  },
  {
   "cell_type": "code",
   "execution_count": 48,
   "metadata": {},
   "outputs": [],
   "source": [
    "#Set the access token and access token secret\n",
    "authenticate.set_access_token(access_token, access_token_secret)"
   ]
  },
  {
   "cell_type": "code",
   "execution_count": 49,
   "metadata": {},
   "outputs": [],
   "source": [
    "api = tweepy.API(authenticate)"
   ]
  },
  {
   "cell_type": "code",
   "execution_count": 50,
   "metadata": {},
   "outputs": [],
   "source": [
    "#Extract  100 tweets from the twitter user\n",
    "posts = api.user_timeline(screen_name= \"BillGates\",count=100,lang=\"en\",tweet_mode=\"extended\")"
   ]
  },
  {
   "cell_type": "code",
   "execution_count": 51,
   "metadata": {},
   "outputs": [
    {
     "name": "stdout",
     "output_type": "stream",
     "text": [
      "Show  the 7 recent tweets: \n",
      "\n",
      "1) RT @MichelleObama: Here's what #Juneteenth means to me: https://t.co/KlOoYwdzD5\n",
      "\n",
      "2) RT @NavigatingNikki: “It’s that clarity of language about the VALUE of black life in America that distinguishes #Juneteenth as emancipation…\n",
      "\n",
      "3) RT @nationalbook: \"And I’ll never lose my faith that you and I can create an anti-racist America where racial disparities are nonexistent.…\n",
      "\n",
      "4) RT @ClintSmithIII: When I think of emancipation, I think of all of the people who fought for freedom but who never got a chance to experien…\n",
      "\n",
      "5) RT @kcarterjackson: Happy Juneteenth fam! My latest for the @TheAtlantic. Find joy today! The images from the article alone are giving me l…\n",
      "\n",
      "6) RT @JohnBKing: Thinking today about my great-grandfather &amp; his family who were enslaved here in Montgomery County, Maryland (just about 25…\n",
      "\n",
      "7) RT @ava: “Only those feigning blindness fail to see the body of work we are, and the work of body we have done. \n",
      "\n",
      "Everything is what it is…\n",
      "\n"
     ]
    }
   ],
   "source": [
    "#Print the last 7 tweets  from the account\n",
    "print(\"Show  the 7 recent tweets: \\n\")\n",
    "i=1\n",
    "for tweet in posts[0:7]:\n",
    "    print(str(i) + ') '+ tweet.full_text + '\\n')\n",
    "    i=i+1\n"
   ]
  },
  {
   "cell_type": "code",
   "execution_count": 52,
   "metadata": {},
   "outputs": [],
   "source": [
    "#Create a dataframe with a column called tweets"
   ]
  },
  {
   "cell_type": "code",
   "execution_count": 53,
   "metadata": {},
   "outputs": [],
   "source": [
    "df = pd.DataFrame([tweet.full_text for tweet in posts], columns=['Tweets'])"
   ]
  },
  {
   "cell_type": "code",
   "execution_count": 54,
   "metadata": {},
   "outputs": [
    {
     "data": {
      "text/html": [
       "<div>\n",
       "<style scoped>\n",
       "    .dataframe tbody tr th:only-of-type {\n",
       "        vertical-align: middle;\n",
       "    }\n",
       "\n",
       "    .dataframe tbody tr th {\n",
       "        vertical-align: top;\n",
       "    }\n",
       "\n",
       "    .dataframe thead th {\n",
       "        text-align: right;\n",
       "    }\n",
       "</style>\n",
       "<table border=\"1\" class=\"dataframe\">\n",
       "  <thead>\n",
       "    <tr style=\"text-align: right;\">\n",
       "      <th></th>\n",
       "      <th>Tweets</th>\n",
       "    </tr>\n",
       "  </thead>\n",
       "  <tbody>\n",
       "    <tr>\n",
       "      <td>0</td>\n",
       "      <td>RT @MichelleObama: Here's what #Juneteenth mea...</td>\n",
       "    </tr>\n",
       "    <tr>\n",
       "      <td>1</td>\n",
       "      <td>RT @NavigatingNikki: “It’s that clarity of lan...</td>\n",
       "    </tr>\n",
       "    <tr>\n",
       "      <td>2</td>\n",
       "      <td>RT @nationalbook: \"And I’ll never lose my fait...</td>\n",
       "    </tr>\n",
       "    <tr>\n",
       "      <td>3</td>\n",
       "      <td>RT @ClintSmithIII: When I think of emancipatio...</td>\n",
       "    </tr>\n",
       "    <tr>\n",
       "      <td>4</td>\n",
       "      <td>RT @kcarterjackson: Happy Juneteenth fam! My l...</td>\n",
       "    </tr>\n",
       "  </tbody>\n",
       "</table>\n",
       "</div>"
      ],
      "text/plain": [
       "                                              Tweets\n",
       "0  RT @MichelleObama: Here's what #Juneteenth mea...\n",
       "1  RT @NavigatingNikki: “It’s that clarity of lan...\n",
       "2  RT @nationalbook: \"And I’ll never lose my fait...\n",
       "3  RT @ClintSmithIII: When I think of emancipatio...\n",
       "4  RT @kcarterjackson: Happy Juneteenth fam! My l..."
      ]
     },
     "execution_count": 54,
     "metadata": {},
     "output_type": "execute_result"
    }
   ],
   "source": [
    "df.head()"
   ]
  },
  {
   "cell_type": "code",
   "execution_count": 55,
   "metadata": {},
   "outputs": [],
   "source": [
    "#Clean the text\n",
    "def cleanTxt(text):\n",
    "    text = re.sub(r'@[A-Za-z0-9]+','',text) #Removing @mentions\n",
    "    text = re.sub(r'#','',text) # Removing the '#'symbol\n",
    "    text = re.sub(r'RT[\\s]+','',text)# Removing RT\n",
    "    text = re.sub(r'https?:\\/\\/\\S+','',text)# Removing hyperlink\n",
    "    text = re.sub(r':','',text)\n",
    "    text = re.sub(r'\"','',text)\n",
    "    return text\n",
    "    "
   ]
  },
  {
   "cell_type": "code",
   "execution_count": 56,
   "metadata": {},
   "outputs": [
    {
     "data": {
      "text/html": [
       "<div>\n",
       "<style scoped>\n",
       "    .dataframe tbody tr th:only-of-type {\n",
       "        vertical-align: middle;\n",
       "    }\n",
       "\n",
       "    .dataframe tbody tr th {\n",
       "        vertical-align: top;\n",
       "    }\n",
       "\n",
       "    .dataframe thead th {\n",
       "        text-align: right;\n",
       "    }\n",
       "</style>\n",
       "<table border=\"1\" class=\"dataframe\">\n",
       "  <thead>\n",
       "    <tr style=\"text-align: right;\">\n",
       "      <th></th>\n",
       "      <th>Tweets</th>\n",
       "    </tr>\n",
       "  </thead>\n",
       "  <tbody>\n",
       "    <tr>\n",
       "      <td>0</td>\n",
       "      <td>Here's what Juneteenth means to me</td>\n",
       "    </tr>\n",
       "    <tr>\n",
       "      <td>1</td>\n",
       "      <td>“It’s that clarity of language about the VALU...</td>\n",
       "    </tr>\n",
       "    <tr>\n",
       "      <td>2</td>\n",
       "      <td>And I’ll never lose my faith that you and I c...</td>\n",
       "    </tr>\n",
       "    <tr>\n",
       "      <td>3</td>\n",
       "      <td>When I think of emancipation, I think of all ...</td>\n",
       "    </tr>\n",
       "    <tr>\n",
       "      <td>4</td>\n",
       "      <td>Happy Juneteenth fam! My latest for the . Fin...</td>\n",
       "    </tr>\n",
       "    <tr>\n",
       "      <td>...</td>\n",
       "      <td>...</td>\n",
       "    </tr>\n",
       "    <tr>\n",
       "      <td>95</td>\n",
       "      <td>Solving the world’s toughest challenges—like f...</td>\n",
       "    </tr>\n",
       "    <tr>\n",
       "      <td>96</td>\n",
       "      <td>Progress isn’t always easy to see. These chart...</td>\n",
       "    </tr>\n",
       "    <tr>\n",
       "      <td>97</td>\n",
       "      <td>America’s tax system will be top of mind for m...</td>\n",
       "    </tr>\n",
       "    <tr>\n",
       "      <td>98</td>\n",
       "      <td>If your New Year’s resolution is to be healthi...</td>\n",
       "    </tr>\n",
       "    <tr>\n",
       "      <td>99</td>\n",
       "      <td>I’m glad __news is highlighting some of the am...</td>\n",
       "    </tr>\n",
       "  </tbody>\n",
       "</table>\n",
       "<p>100 rows × 1 columns</p>\n",
       "</div>"
      ],
      "text/plain": [
       "                                               Tweets\n",
       "0                 Here's what Juneteenth means to me \n",
       "1    “It’s that clarity of language about the VALU...\n",
       "2    And I’ll never lose my faith that you and I c...\n",
       "3    When I think of emancipation, I think of all ...\n",
       "4    Happy Juneteenth fam! My latest for the . Fin...\n",
       "..                                                ...\n",
       "95  Solving the world’s toughest challenges—like f...\n",
       "96  Progress isn’t always easy to see. These chart...\n",
       "97  America’s tax system will be top of mind for m...\n",
       "98  If your New Year’s resolution is to be healthi...\n",
       "99  I’m glad __news is highlighting some of the am...\n",
       "\n",
       "[100 rows x 1 columns]"
      ]
     },
     "execution_count": 56,
     "metadata": {},
     "output_type": "execute_result"
    }
   ],
   "source": [
    "#Cleaning the text\n",
    "df['Tweets']=df['Tweets'].apply(cleanTxt)\n",
    "df"
   ]
  },
  {
   "cell_type": "code",
   "execution_count": 57,
   "metadata": {},
   "outputs": [],
   "source": [
    "#Create a function to get the subjectively\n",
    "#def getSubjectivity(text):\n",
    " #   return TextBlob(text).sentiment.subjectively\n",
    "\n",
    "#Create a function to get the polarity\n",
    "def getPolarity(text):\n",
    "    return TextBlob(text).sentiment.polarity\n"
   ]
  },
  {
   "cell_type": "code",
   "execution_count": 90,
   "metadata": {},
   "outputs": [],
   "source": [
    "#create two new columns\n",
    "#df['Subjectivity']= df['Tweets'].apply(getSubjectivity)\n",
    "df['Polarity']=df['Tweets'].apply(getPolarity)"
   ]
  },
  {
   "cell_type": "code",
   "execution_count": 91,
   "metadata": {},
   "outputs": [
    {
     "data": {
      "text/html": [
       "<div>\n",
       "<style scoped>\n",
       "    .dataframe tbody tr th:only-of-type {\n",
       "        vertical-align: middle;\n",
       "    }\n",
       "\n",
       "    .dataframe tbody tr th {\n",
       "        vertical-align: top;\n",
       "    }\n",
       "\n",
       "    .dataframe thead th {\n",
       "        text-align: right;\n",
       "    }\n",
       "</style>\n",
       "<table border=\"1\" class=\"dataframe\">\n",
       "  <thead>\n",
       "    <tr style=\"text-align: right;\">\n",
       "      <th></th>\n",
       "      <th>Tweets</th>\n",
       "      <th>getPolarity</th>\n",
       "      <th>Polarity</th>\n",
       "    </tr>\n",
       "  </thead>\n",
       "  <tbody>\n",
       "    <tr>\n",
       "      <td>0</td>\n",
       "      <td>Here's what Juneteenth means to me</td>\n",
       "      <td>0.000000</td>\n",
       "      <td>0.000000</td>\n",
       "    </tr>\n",
       "    <tr>\n",
       "      <td>1</td>\n",
       "      <td>“It’s that clarity of language about the VALU...</td>\n",
       "      <td>-0.166667</td>\n",
       "      <td>-0.166667</td>\n",
       "    </tr>\n",
       "    <tr>\n",
       "      <td>2</td>\n",
       "      <td>And I’ll never lose my faith that you and I c...</td>\n",
       "      <td>0.000000</td>\n",
       "      <td>0.000000</td>\n",
       "    </tr>\n",
       "    <tr>\n",
       "      <td>3</td>\n",
       "      <td>When I think of emancipation, I think of all ...</td>\n",
       "      <td>0.000000</td>\n",
       "      <td>0.000000</td>\n",
       "    </tr>\n",
       "    <tr>\n",
       "      <td>4</td>\n",
       "      <td>Happy Juneteenth fam! My latest for the . Fin...</td>\n",
       "      <td>0.833333</td>\n",
       "      <td>0.833333</td>\n",
       "    </tr>\n",
       "    <tr>\n",
       "      <td>...</td>\n",
       "      <td>...</td>\n",
       "      <td>...</td>\n",
       "      <td>...</td>\n",
       "    </tr>\n",
       "    <tr>\n",
       "      <td>95</td>\n",
       "      <td>Solving the world’s toughest challenges—like f...</td>\n",
       "      <td>0.206061</td>\n",
       "      <td>0.206061</td>\n",
       "    </tr>\n",
       "    <tr>\n",
       "      <td>96</td>\n",
       "      <td>Progress isn’t always easy to see. These chart...</td>\n",
       "      <td>0.466667</td>\n",
       "      <td>0.466667</td>\n",
       "    </tr>\n",
       "    <tr>\n",
       "      <td>97</td>\n",
       "      <td>America’s tax system will be top of mind for m...</td>\n",
       "      <td>0.400000</td>\n",
       "      <td>0.400000</td>\n",
       "    </tr>\n",
       "    <tr>\n",
       "      <td>98</td>\n",
       "      <td>If your New Year’s resolution is to be healthi...</td>\n",
       "      <td>0.418182</td>\n",
       "      <td>0.418182</td>\n",
       "    </tr>\n",
       "    <tr>\n",
       "      <td>99</td>\n",
       "      <td>I’m glad __news is highlighting some of the am...</td>\n",
       "      <td>0.550000</td>\n",
       "      <td>0.550000</td>\n",
       "    </tr>\n",
       "  </tbody>\n",
       "</table>\n",
       "<p>100 rows × 3 columns</p>\n",
       "</div>"
      ],
      "text/plain": [
       "                                               Tweets  getPolarity  Polarity\n",
       "0                 Here's what Juneteenth means to me      0.000000  0.000000\n",
       "1    “It’s that clarity of language about the VALU...    -0.166667 -0.166667\n",
       "2    And I’ll never lose my faith that you and I c...     0.000000  0.000000\n",
       "3    When I think of emancipation, I think of all ...     0.000000  0.000000\n",
       "4    Happy Juneteenth fam! My latest for the . Fin...     0.833333  0.833333\n",
       "..                                                ...          ...       ...\n",
       "95  Solving the world’s toughest challenges—like f...     0.206061  0.206061\n",
       "96  Progress isn’t always easy to see. These chart...     0.466667  0.466667\n",
       "97  America’s tax system will be top of mind for m...     0.400000  0.400000\n",
       "98  If your New Year’s resolution is to be healthi...     0.418182  0.418182\n",
       "99  I’m glad __news is highlighting some of the am...     0.550000  0.550000\n",
       "\n",
       "[100 rows x 3 columns]"
      ]
     },
     "execution_count": 91,
     "metadata": {},
     "output_type": "execute_result"
    }
   ],
   "source": [
    "df"
   ]
  },
  {
   "cell_type": "code",
   "execution_count": 94,
   "metadata": {},
   "outputs": [
    {
     "data": {
      "image/png": "[encoded data removed]",
      "text/plain": [
       "<Figure size 432x288 with 1 Axes>"
      ]
     },
     "metadata": {},
     "output_type": "display_data"
    }
   ],
   "source": [
    "#Plot the word cloud\n",
    "allWords = ' '.join([twts for twts in df['Tweets']])\n",
    "wordCloud= WordCloud(width=500,height=300,random_state=21,max_font_size=119).generate(allWords)\n",
    "plt.imshow(wordCloud,interpolation=\"bilinear\")\n",
    "plt.axis('off')\n",
    "plt.show()\n"
   ]
  },
  {
   "cell_type": "code",
   "execution_count": 92,
   "metadata": {},
   "outputs": [],
   "source": [
    "# Create  a function  to compute the negative and positive analysis.\n",
    "\n",
    "def getAnalysis(score):\n",
    "    if score<0:\n",
    "        return 'Negative'\n",
    "    elif score==0:\n",
    "        return 'Neutral'\n",
    "    else:\n",
    "        return 'Positive'        "
   ]
  },
  {
   "cell_type": "code",
   "execution_count": 105,
   "metadata": {},
   "outputs": [],
   "source": [
    "df['Analysis'] = df['Polarity'].apply(getAnalysis)"
   ]
  },
  {
   "cell_type": "code",
   "execution_count": 95,
   "metadata": {},
   "outputs": [
    {
     "data": {
      "text/html": [
       "<div>\n",
       "<style scoped>\n",
       "    .dataframe tbody tr th:only-of-type {\n",
       "        vertical-align: middle;\n",
       "    }\n",
       "\n",
       "    .dataframe tbody tr th {\n",
       "        vertical-align: top;\n",
       "    }\n",
       "\n",
       "    .dataframe thead th {\n",
       "        text-align: right;\n",
       "    }\n",
       "</style>\n",
       "<table border=\"1\" class=\"dataframe\">\n",
       "  <thead>\n",
       "    <tr style=\"text-align: right;\">\n",
       "      <th></th>\n",
       "      <th>Tweets</th>\n",
       "      <th>getPolarity</th>\n",
       "      <th>Polarity</th>\n",
       "      <th>Analysis</th>\n",
       "    </tr>\n",
       "  </thead>\n",
       "  <tbody>\n",
       "    <tr>\n",
       "      <td>0</td>\n",
       "      <td>Here's what Juneteenth means to me</td>\n",
       "      <td>0.000000</td>\n",
       "      <td>0.000000</td>\n",
       "      <td>Neutral</td>\n",
       "    </tr>\n",
       "    <tr>\n",
       "      <td>1</td>\n",
       "      <td>“It’s that clarity of language about the VALU...</td>\n",
       "      <td>-0.166667</td>\n",
       "      <td>-0.166667</td>\n",
       "      <td>Negative</td>\n",
       "    </tr>\n",
       "    <tr>\n",
       "      <td>2</td>\n",
       "      <td>And I’ll never lose my faith that you and I c...</td>\n",
       "      <td>0.000000</td>\n",
       "      <td>0.000000</td>\n",
       "      <td>Neutral</td>\n",
       "    </tr>\n",
       "    <tr>\n",
       "      <td>3</td>\n",
       "      <td>When I think of emancipation, I think of all ...</td>\n",
       "      <td>0.000000</td>\n",
       "      <td>0.000000</td>\n",
       "      <td>Neutral</td>\n",
       "    </tr>\n",
       "    <tr>\n",
       "      <td>4</td>\n",
       "      <td>Happy Juneteenth fam! My latest for the . Fin...</td>\n",
       "      <td>0.833333</td>\n",
       "      <td>0.833333</td>\n",
       "      <td>Positive</td>\n",
       "    </tr>\n",
       "    <tr>\n",
       "      <td>...</td>\n",
       "      <td>...</td>\n",
       "      <td>...</td>\n",
       "      <td>...</td>\n",
       "      <td>...</td>\n",
       "    </tr>\n",
       "    <tr>\n",
       "      <td>95</td>\n",
       "      <td>Solving the world’s toughest challenges—like f...</td>\n",
       "      <td>0.206061</td>\n",
       "      <td>0.206061</td>\n",
       "      <td>Positive</td>\n",
       "    </tr>\n",
       "    <tr>\n",
       "      <td>96</td>\n",
       "      <td>Progress isn’t always easy to see. These chart...</td>\n",
       "      <td>0.466667</td>\n",
       "      <td>0.466667</td>\n",
       "      <td>Positive</td>\n",
       "    </tr>\n",
       "    <tr>\n",
       "      <td>97</td>\n",
       "      <td>America’s tax system will be top of mind for m...</td>\n",
       "      <td>0.400000</td>\n",
       "      <td>0.400000</td>\n",
       "      <td>Positive</td>\n",
       "    </tr>\n",
       "    <tr>\n",
       "      <td>98</td>\n",
       "      <td>If your New Year’s resolution is to be healthi...</td>\n",
       "      <td>0.418182</td>\n",
       "      <td>0.418182</td>\n",
       "      <td>Positive</td>\n",
       "    </tr>\n",
       "    <tr>\n",
       "      <td>99</td>\n",
       "      <td>I’m glad __news is highlighting some of the am...</td>\n",
       "      <td>0.550000</td>\n",
       "      <td>0.550000</td>\n",
       "      <td>Positive</td>\n",
       "    </tr>\n",
       "  </tbody>\n",
       "</table>\n",
       "<p>100 rows × 4 columns</p>\n",
       "</div>"
      ],
      "text/plain": [
       "                                               Tweets  getPolarity  Polarity  \\\n",
       "0                 Here's what Juneteenth means to me      0.000000  0.000000   \n",
       "1    “It’s that clarity of language about the VALU...    -0.166667 -0.166667   \n",
       "2    And I’ll never lose my faith that you and I c...     0.000000  0.000000   \n",
       "3    When I think of emancipation, I think of all ...     0.000000  0.000000   \n",
       "4    Happy Juneteenth fam! My latest for the . Fin...     0.833333  0.833333   \n",
       "..                                                ...          ...       ...   \n",
       "95  Solving the world’s toughest challenges—like f...     0.206061  0.206061   \n",
       "96  Progress isn’t always easy to see. These chart...     0.466667  0.466667   \n",
       "97  America’s tax system will be top of mind for m...     0.400000  0.400000   \n",
       "98  If your New Year’s resolution is to be healthi...     0.418182  0.418182   \n",
       "99  I’m glad __news is highlighting some of the am...     0.550000  0.550000   \n",
       "\n",
       "    Analysis  \n",
       "0    Neutral  \n",
       "1   Negative  \n",
       "2    Neutral  \n",
       "3    Neutral  \n",
       "4   Positive  \n",
       "..       ...  \n",
       "95  Positive  \n",
       "96  Positive  \n",
       "97  Positive  \n",
       "98  Positive  \n",
       "99  Positive  \n",
       "\n",
       "[100 rows x 4 columns]"
      ]
     },
     "execution_count": 95,
     "metadata": {},
     "output_type": "execute_result"
    }
   ],
   "source": [
    "df"
   ]
  },
  {
   "cell_type": "code",
   "execution_count": 101,
   "metadata": {},
   "outputs": [
    {
     "name": "stdout",
     "output_type": "stream",
     "text": [
      "1) Happy Juneteenth fam! My latest for the . Find joy today! The images from the article alone are giving me l…\n",
      "\n",
      "2) Proud to share my thoughts in ’s “injustice issue” on (and for) our beloved young people I call the TrayvonGene…\n",
      "\n",
      "3) Opal is 93 years old and a great interview. Take a listen \n",
      "\n",
      "4)I am committed to listening and learning more about systemic racism and what I can do with my actions and words to help create a more equal and just future. Black lives matter.\n",
      "\n",
      "5) Today world leaders pledged to fully support ’s mission to give more children access to lifesaving vaccines and b…\n",
      "\n",
      "6)I continue to be inspired by all of the volunteers (including many retired health care workers and teachers) on the front lines of the fight against coronavirus each day. \n",
      "\n",
      "7)Here are five books to read this summer if you want to learn more about pandemics or are looking for a distraction  \n",
      "\n",
      "8)Melinda recommended that I read The Choice, and I’m glad she did. I think many people will find comfort right now from Dr. Edith Eva Eger's suggestions on how to handle difficult situations. \n",
      "\n",
      "9)Today is RedNoseDay. Their work has made an incredible impact to reduce child poverty in the US and around the world. \n",
      "\n",
      "10)The 1918 influenza outbreak is the closest comparison to what we’re living through right now. John Barry does a great job explaining the realities and lessons of that devastating pandemic. \n",
      "\n",
      "11)Most of my conversations these days are about COVID-19 and how we can stem the tide, but I’m also often asked about what I am reading and watching. Here are my 2020 summer book recommendations (plus a few other ideas for things to do at home). \n",
      "\n",
      "12)  Thank you for the conversation and partnership, . Combating the pandemic requires global collaboration. India’s role is key as the world works to minimize social and economic impact, and pave the way to vaccine, testing, and treatment access for all. \n",
      "\n",
      "13) When will America be able to get back to work? \n",
      "\n",
      "The answer depends on whether workers have caregiving options they can r…\n",
      "\n",
      "14)Humankind has never had a more urgent task than creating broad immunity for coronavirus. It’s going to require a global cooperative effort like the world has never seen. But I know we’ll get it done. There’s simply no alternative. \n",
      "\n",
      "15) Developing a vaccine against COVID19 is among the first steps to a solution.\n",
      "\n",
      "Distributing the vaccine safely, effect…\n",
      "\n",
      "16)We don't yet have all the tools we need to stop the novel coronavirus and safely re-open the economy. But they are on the horizon. \n",
      "\n",
      "17)This is a great introduction to computer science concepts for students at all levels. I’m looking forward to joining today’s Code Break. \n",
      "\n",
      "18). does an amazing job capturing the heroism of the health care workers on the front lines of the coronavirus fight. \n",
      "\n",
      "19)On WorldHealthDay — and every day — I want to thank all of the health heroes for their sacrifices and for keeping us safe. \n",
      "\n",
      "20)It’s encouraging to see the first projects begin from our effort to accelerate safe and effective drugs for COVID19. \n",
      "\n",
      "21)I’m excited to join the  Daily Homeroom today to talk about the incredible ways parents, teachers, and students are coming together to keep learning while schools are closed. \n",
      "\n",
      "22)If we make the right decisions now—informed by science, data and the experience of medical professionals—we can save lives and get the country back to work. You can read more about my thoughts on COVID19 on my blog. \n",
      "\n",
      "23)In the meantime, frontline health care workers are making heroic efforts to test and treat patients across the United States and the world. Here in my hometown, Public Health Seattle &amp; King County () is doing incredible work that we should all be very proud of.\n",
      "\n",
      "24)All the work that rich countries are doing now to develop vaccines will save lives in developing countries too. Without a vaccine, those countries are at even greater risk than wealthy ones, because it’s even harder for them to do physical distancing and shutdowns.\n",
      "\n",
      "25)If everything goes well, there might be an effective vaccine in less than 18 months—the fastest a vaccine has ever been developed. That will depend on decisions we make today, including the federal government investing in building up manufacturing capacity.\n",
      "\n",
      "26)Work is going full speed on potential treatments, and vaccines. But people should know that it will take time to prove they are safe and effective and to start making them.\n",
      "\n",
      "27)There’s been some progress on more efficient testing methods, such as the self-swab developed by the Seattle Coronavirus Assessment Network. I hope this and other innovations in testing are scaled up across the country soon. \n",
      "\n",
      "28)The federal government needs to step up on testing far more tests should be made available, and we should aggregate the results so we can quickly identify potential volunteers for clinical trials and know with confidence when it’s time to return to normal.\n",
      "\n",
      "29)There’s no question the United States missed the opportunity to get ahead of the novel coronavirus. But the window for making important decisions hasn’t closed. The choices we and our leaders make now will have an enormous impact. \n",
      "\n",
      "30)I’m inspired by the generosity of everyone who has contributed to this effort to help keep kids learning at home. Thank you to  and especially the educators who are doing amazing things for their students every day. \n",
      "\n",
      "31)One of the questions I am most often asked about the COVID19 pandemic is how, and when, it will end. This article by  does a really good job of outlining the steps we need to take. \n",
      "\n",
      "32)This impressive new tool from _UW will help hospitals, policymakers, and the general public better understand and prepare for the COVID19 response in the U.S. \n",
      "\n",
      "33)This is encouraging news, but we still have a lot of work to do. Extreme physical distancing and testing are the best tools we have right now to slow the spread of novel coronavirus. \n",
      "\n",
      "34)There are few people I’ve learned more from over the years–especially about viruses–than Peter Piot. This Q&amp;A with him is an excellent, easy-to-understand primer on COVID19  \n",
      "\n",
      "35)I’ve been impressed by governors across the country including , , , , , and the many others who are guiding their communities through this challenge and providing a model for us all to follow.\n",
      "\n",
      "36)Thanks to Norway and Prime Minister _solberg for their ongoing leadership in global health and important investments in vaccines. \n",
      "\n",
      "37)The international response will require funding for ’s development of a COVID-19 vaccine and for . Thanks to  and the UK for this vital commitment. \n",
      "\n",
      "38)Lots of people in Seattle have asked how they can help those impacted by COVID19 locally.  has done a great job identifying organizations who are already on the ground and deploying resources quickly to help our friends and neighbors  \n",
      "\n",
      "39)Thanks for your leadership, . This is an inspiring contribution and will make a big difference for families. \n",
      "\n",
      "40)Teachers are doing incredible work to keep kids learning while at home. To help get supplies to those most in need, Melinda and I will double your impact, up to $1 million total, when you give to  coronavirus relief effort today and tomorrow. \n",
      "\n",
      "41)I’m connecting live with  and  to talk about what our healthcare systems need to tackle the COVID19 pandemic and prepare for future epidemics. \n",
      "\n",
      "42)Thanks  for joining me yesterday to discuss the COVID19 pandemic and what we can do to prevent the next one. Here's a recap of the conversation  \n",
      "\n",
      "43)I know many parents are looking for resources and ideas to help their kids continue learning while home.  has created daily schedules with interactive content--exercises, videos and articles--for students in every grade. \n",
      "\n",
      "44)We don’t yet have all the tools we need to fight COVID-19. This is an important step toward having treatments, while we also explore vaccines and diagnostics. Thanks to  and  for launching this effort with us. \n",
      "\n",
      "45)COVID-19 could be a once-in-a-century pandemic, but the good news is that there are steps we can take now to slow its impact and help us respond more effectively when the next epidemic arrives. COVID19 \n",
      "\n",
      "46)1 in 4 children under five in South Africa are stunted. The  Campaign is empowering new and pregnant moms to keep their children healthy. Here’s why I’m optimistic that they can make an impact  \n",
      "\n",
      "47)Melinda and I have met many stunted children in our travels. It’s heartbreaking and utterly preventable. Dr.  is leading an incredible effort to eliminate child stunting from South Africa over the next decade. \n",
      "\n",
      "48)Diseases that cause dementia are only diagnosed after symptoms start. To effectively treat these diseases, we need to be able to diagnose them decades earlier when they first take hold in the brain. \n",
      "\n",
      "49)We’re hopeful that our foundation’s work with Networks for School Improvement will help increase the number of Black, Latinx, and low-income students who graduate from high school and pursue postsecondary opportunities. Here’s why that’s so important  \n",
      "\n",
      "50)It was a magical night. I'm very happy to support your foundation's incredible work. \n",
      "\n",
      "51)Vaccines are a miracle. But how exactly do they work? I explain the science behind vaccines and why our foundation’s investment in them is one of the best we’ve ever made  \n",
      "\n",
      "52)This is an incredible story about the power of vaccines. 13 million people are alive today thanks to . Here’s how  \n",
      "\n",
      "53)When we first started our foundation, Melinda and I were optimistic about the power of innovation to drive progress. Twenty years later, we’re just as optimistic, and we’re still swinging for the fences  \n",
      "\n",
      "54)In our new annual letter,  and I write about why we think the risks we’ve taken in the first two decades of our foundation have set us up for future progress. \n",
      "\n",
      "55)   Roger’s foundation partners with local NGOs in six countries in southern Africa to improve early learning and basic education. It’s an impressive organization, and I encourage you to consider supporting its work \n",
      "\n",
      "56)I’m excited to team up with  again for the Match in Africa Friday in Cape Town. Playing alongside Roger is always a thrill, and I can’t wait to face off against  and . \n",
      "\n",
      "57)As we conclude our foundation’s second decade of work in global health and education, I have never been more optimistic about the opportunity to improve life for the world’s poorest. I look forward to partnering with you on the work ahead. \n",
      "\n",
      "58)Thank you, Sue, for all of your contributions to our foundation. I look forward to continuing our work together on important health and education projects that will improve lives. \n",
      "\n",
      "59)The world has only begun to tap into all the ways AI will help people live healthier lives. I’m excited about the launch of ’s new AI for Health initiative, which connects researchers and organizations with world-class AI talent and resources. \n",
      "\n",
      "60)I joined  ten years (and a couple of days) ago. These are some of my favorite tweets. What’s your favorite tweet from the last ten years? \n",
      "\n",
      "61) There are still too many children—many living in some of the hardest-to-reach places on the planet—who aren’t getting basic vaccines. Gavi is the best tool we have to reach them.  VaccinesWork\n",
      "\n",
      "62)For twenty years,  has worked to ensure that every child in the world is protected from preventable diseases. The results are incredible. But their work is far from done. \n",
      "\n",
      "63)I had a fascinating conversation with Vaclav Smil about what bacteria, babies, empires, and economies all have in common  \n",
      "\n",
      "64)Thanks to the work of this father–daughter dynamic duo, Bangladesh is moving toward a future of fewer disease outbreaks and more children reaching their fifth birthday. \n",
      "\n",
      "65)Solving the world’s toughest challenges—like fighting the worst impacts of climate change—requires lots of new ideas and talented people working across many fields. I’m glad to see this effort to support this important work. \n",
      "\n",
      "66)Progress isn’t always easy to see. These charts show some of the ways that the world is getting better. \n",
      "\n",
      "67)America’s tax system will be top of mind for many in 2020. Here’s what I really think. \n",
      "\n",
      "68)If your New Year’s resolution is to be healthier in 2020, this book is a good place to start. \n",
      "\n",
      "69)I’m glad __news is highlighting some of the amazing things happening in the world. \n",
      "\n"
     ]
    }
   ],
   "source": [
    "#Print all of the positive tweets\n",
    "j=1\n",
    "sortedDF = df.sort_values(by=['Polarity'])\n",
    "for i in range(0, sortedDF.shape[0]):\n",
    "    if(sortedDF['Analysis'][i]=='Positive'):\n",
    "        print(str(j)+ ')'+sortedDF['Tweets'][i])\n",
    "        print()\n",
    "        j=j+1\n",
    "              \n",
    "    "
   ]
  },
  {
   "cell_type": "code",
   "execution_count": 102,
   "metadata": {},
   "outputs": [
    {
     "name": "stdout",
     "output_type": "stream",
     "text": [
      "1) “It’s that clarity of language about the VALUE of black life in America that distinguishes Juneteenth as emancipation…\n",
      "\n",
      "2) “Only those feigning blindness fail to see the body of work we are, and the work of body we have done. \n",
      "\n",
      "Everything is what it is…\n",
      "\n",
      "3) Juneteenth recognizes &amp; celebrates Black people’s freedom and the end of slavery in the US!  19 Jun 1865 Union Army Genera…\n",
      "\n",
      "4)_Nyongo 1. This is Opal Lee, the force behind the movement to make Juneteenth a national holiday. Also known as Freedom Day, it…\n",
      "\n",
      "5)…in policing, criminal justice, education, health care, housing, the workplace and all other areas of their lives.\n",
      "\n",
      "6)The horrifying killings of George Floyd, Ahmaud Arbery, Breonna Taylor and far too many other Black people—and the protests they sparked—are shining a light on the brutal injustices that Black people experience every day…\n",
      "\n",
      "7) The video of George Floyd’s brutal death broke my heart. I’ve watched the protests that followed and have felt overwhelme…\n",
      "\n",
      "8)I’m hopeful that this program will improve our understanding of the coronavirus outbreak in Seattle and provide valuable information about the virus for other communities around the world. \n",
      "\n",
      "9)Class of 2020, these are not easy times. But we will get through them. And with your leadership, the world will be stronger than before. \n",
      "\n",
      "10)Halting funding for the World Health Organization during a world health crisis is as dangerous as it sounds. Their work is slowing the spread of COVID-19 and if that work is stopped no other organization can replace them. The world needs  now more than ever.\n",
      "\n",
      "11)I always enjoy chatting with , even though we had to sit a little bit further apart than usual this time. \n",
      "\n",
      "12)Extreme physical distancing measures will make a big difference in the U.S., but we need a consistent nationwide approach. Until the case numbers start to go down across America—which could take 10 weeks or more—no one can continue business as usual or relax the shutdown.\n",
      "\n",
      "13)Science is giving us the opportunity to improve lives around the world faster than ever before. Today I was honored to give a speech on this subject at the  annual meeting. AAASmtg \n",
      "\n",
      "14) The world must work together to slow the coronavirus outbreak, protect the most vulnerable, &amp; develop tools to control this ep…\n",
      "\n",
      "15)Game on! \n",
      "\n",
      "16)It's great to see Microsoft's leadership in this area. Avoiding the worst effects of climate change will require innovation and investment to get us to net zero carbon emissions across all sectors of the economy. \n",
      "\n",
      "17)These global health heroes have helped Bangladesh become a model for other countries for how to respond to infectious disease outbreaks  \n",
      "\n",
      "18)It’s encouraging to see these results. Typhoid is especially deadly for young children, and a vaccine like this has the potential to save millions of lives. \n",
      "\n"
     ]
    }
   ],
   "source": [
    "#Print the negative tweets\n",
    "j=1\n",
    "sortedDF = df.sort_values(by=['Polarity'])\n",
    "for i in range(0, sortedDF.shape[0]):\n",
    "    if(sortedDF['Analysis'][i]=='Negative'):\n",
    "        print(str(j)+ ')'+sortedDF['Tweets'][i])\n",
    "        print()\n",
    "        j=j+1           \n",
    "    "
   ]
  },
  {
   "cell_type": "code",
   "execution_count": 109,
   "metadata": {},
   "outputs": [],
   "source": [
    "#Plot the Polarity and subjectively\n",
    "#plt.figure(figsize=(8,6))\n",
    "#for i in range(0,df.shape[0]):\n",
    " #   plt.scatter(df['Polarity'][i],color='Blue')\n",
    "#plt.title('Sentimental Analysis')\n",
    "#plt.xlabel('Polarity')\n",
    "#plt.ylabel\n",
    "    \n",
    "    \n",
    "\n",
    "\n"
   ]
  },
  {
   "cell_type": "code",
   "execution_count": 110,
   "metadata": {},
   "outputs": [
    {
     "data": {
      "text/plain": [
       "69.0"
      ]
     },
     "execution_count": 110,
     "metadata": {},
     "output_type": "execute_result"
    }
   ],
   "source": [
    "#Get percentage of positive tweets\n",
    "ptweets = df[df.Analysis == 'Positive']\n",
    "ptweets = ptweets['Tweets']\n",
    "\n",
    "round( (ptweets.shape[0] / df.shape[0]) *100,1)\n"
   ]
  },
  {
   "cell_type": "code",
   "execution_count": 114,
   "metadata": {},
   "outputs": [
    {
     "data": {
      "text/plain": [
       "18.0"
      ]
     },
     "execution_count": 114,
     "metadata": {},
     "output_type": "execute_result"
    }
   ],
   "source": [
    "#Get percentage of Negative tweets.\n",
    "ntweets = df[df.Analysis == 'Negative']\n",
    "ntweets = ntweets['Tweets']\n",
    "\n",
    "round( (ntweets.shape[0] / df.shape[0]) *100,1)\n"
   ]
  },
  {
   "cell_type": "code",
   "execution_count": 118,
   "metadata": {},
   "outputs": [
    {
     "data": {
      "image/png": "[encoded data removed]",
      "text/plain": [
       "<Figure size 432x288 with 1 Axes>"
      ]
     },
     "metadata": {},
     "output_type": "display_data"
    }
   ],
   "source": [
    "#Show count value\n",
    "\n",
    "df['Analysis'].value_counts()\n",
    "\n",
    "#plot and visuliaze the value\n",
    "plt.title('Sentimental Analysis')\n",
    "plt.xlabel('Sentiments')\n",
    "plt.ylabel('Counts')\n",
    "df['Analysis'].value_counts().plot(kind='bar')\n",
    "plt.show()\n",
    "    \n"
   ]
  },
  {
   "cell_type": "code",
   "execution_count": null,
   "metadata": {},
   "outputs": [],
   "source": []
  },
  {
   "cell_type": "code",
   "execution_count": null,
   "metadata": {},
   "outputs": [],
   "source": []
  },
  {
   "cell_type": "code",
   "execution_count": null,
   "metadata": {},
   "outputs": [],
   "source": []
  },
  {
   "cell_type": "code",
   "execution_count": null,
   "metadata": {},
   "outputs": [],
   "source": []
  },
  {
   "cell_type": "code",
   "execution_count": null,
   "metadata": {},
   "outputs": [],
   "source": []
  },
  {
   "cell_type": "code",
   "execution_count": null,
   "metadata": {},
   "outputs": [],
   "source": []
  },
  {
   "cell_type": "code",
   "execution_count": null,
   "metadata": {},
   "outputs": [],
   "source": []
  },
  {
   "cell_type": "code",
   "execution_count": null,
   "metadata": {},
   "outputs": [],
   "source": []
  }
 ],
 "metadata": {
  "kernelspec": {
   "display_name": "Python 3",
   "language": "python",
   "name": "python3"
  },
  "language_info": {
   "codemirror_mode": {
    "name": "ipython",
    "version": 3
   },
   "file_extension": ".py",
   "mimetype": "text/x-python",
   "name": "python",
   "nbconvert_exporter": "python",
   "pygments_lexer": "ipython3",
   "version": "3.7.4"
  }
 },
 "nbformat": 4,
 "nbformat_minor": 2
}
